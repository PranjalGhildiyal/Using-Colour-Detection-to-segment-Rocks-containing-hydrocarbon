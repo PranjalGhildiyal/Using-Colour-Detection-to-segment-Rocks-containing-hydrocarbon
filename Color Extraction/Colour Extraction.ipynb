{
 "cells": [
  {
   "cell_type": "code",
   "execution_count": null,
   "metadata": {},
   "outputs": [],
   "source": [
    "#1\n",
    "import cv2\n",
    "import pandas as pd\n",
    "import numpy as np\n",
    "\n",
    "img_path = r'C:\\Users\\sizzl\\Desktop\\Data_analysis_Tools\\Colour Detection\\Photo\\BG\\BG 01 230520.jpg'\n",
    "img = cv2.imread(img_path)"
   ]
  },
  {
   "cell_type": "code",
   "execution_count": null,
   "metadata": {},
   "outputs": [],
   "source": [
    "#Run to only select a particular range of colour from the image\n",
    "#lower = lower bgr range boundary\n",
    "#upper = upper bgr range boundary\n",
    "lower = np.array([105,105,105]) #Colour Code: #696969 \n",
    "upper = np.array([220,220,220]) #Colour Code: #DCDCDC\n",
    "mask = cv2.inRange(img,lower,upper)\n",
    "z = cv2.bitwise_and(img,img,mask = mask)\n",
    "cv2.imshow('selective', z)\n",
    "cv2.waitKey(0)\n",
    "cv2.destroyAllWindows()\n"
   ]
  }
 ],
 "metadata": {
  "kernelspec": {
   "display_name": "Python 3",
   "language": "python",
   "name": "python3"
  },
  "language_info": {
   "codemirror_mode": {
    "name": "ipython",
    "version": 3
   },
   "file_extension": ".py",
   "mimetype": "text/x-python",
   "name": "python",
   "nbconvert_exporter": "python",
   "pygments_lexer": "ipython3",
   "version": "3.8.3"
  }
 },
 "nbformat": 4,
 "nbformat_minor": 4
}
